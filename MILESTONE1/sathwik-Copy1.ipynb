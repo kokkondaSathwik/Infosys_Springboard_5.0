{
 "cells": [
  {
   "cell_type": "code",
   "execution_count": 3,
   "id": "4dd3072b-9c6b-47a1-a0c4-264c8e806935",
   "metadata": {},
   "outputs": [
    {
     "name": "stdout",
     "output_type": "stream",
     "text": [
      "Dataset saved to synthetic_dataset.csv\n"
     ]
    }
   ],
   "source": [
    "import pandas as pd\n",
    "import random\n",
    "from faker import Faker\n",
    "\n",
    "# Initialize Faker\n",
    "fake = Faker()\n",
    "\n",
    "# Function to generate synthetic data\n",
    "def generate_dataset(num_records=100):\n",
    "    data = []\n",
    "\n",
    "    for _ in range(num_records):\n",
    "        record = {\n",
    "            \"Customer Name\": fake.name(),\n",
    "            \"cust_mail_id\": fake.email(),\n",
    "            \"Feedback\": fake.sentence(),\n",
    "            \"Date and time\": fake.date_time_this_year().strftime(\"%Y-%m-%d %H:%M:%S\"),\n",
    "            \"caretaker/server name\": fake.name(),\n",
    "            \"care-empid\": random.randint(1000, 9999),\n",
    "            \"cust-age\": random.randint(18, 75),\n",
    "            \"cust-contact\": fake.phone_number(),\n",
    "            \"sentiment-future\": random.choice([\"Positive\", \"Neutral\", \"Negative\"]),\n",
    "            \"dept\": random.choice([\"Dining\", \"Room Service\", \"Front Desk\", \"Maintenance\"]),\n",
    "            \"customer-stay duration\": random.randint(1, 30),\n",
    "            \"customer-n visits past\": random.randint(0, 15),\n",
    "            \"customer-membership status\": random.choice([\"Gold\", \"Silver\", \"Bronze\", \"None\"]),\n",
    "            \"customer-amt to be paid\": round(random.uniform(50, 1000), 2),\n",
    "            \"NPS\": random.randint(0, 10),\n",
    "            \"Dining Preference\": random.choice([\"Vegetarian\", \"Vegan\", \"Non-Vegetarian\"]),\n",
    "            \"Room Preference\": random.choice([\"Suite\", \"Deluxe\", \"Standard\"]),\n",
    "            \"Sports Activities\": random.choice([\"Table Tennis\", \"Golf\", \"Swimming\", \"None\"]),\n",
    "            \"Wellness\": random.choice([\"Gym\", \"Sauna\", \"Massage\", \"None\"]),\n",
    "            \"Pricing Pattern\": random.choice([\"Frugal\", \"Luxury\"])\n",
    "        }\n",
    "        data.append(record)\n",
    "\n",
    "    return pd.DataFrame(data)\n",
    "\n",
    "# Generate dataset and save to CSV\n",
    "def save_dataset_to_csv(filename=\"synthetic_dataset.csv\", num_records=100):\n",
    "    df = generate_dataset(num_records)\n",
    "    df.to_csv(filename, index=False)\n",
    "    print(f\"Dataset saved to {filename}\")\n",
    "\n",
    "if __name__ == \"__main__\":\n",
    "    save_dataset_to_csv(num_records=200)\n"
   ]
  },
  {
   "cell_type": "raw",
   "id": "3402b73c-749e-45eb-a0c4-c614645366a4",
   "metadata": {},
   "source": [
    "import pandas as pd\n",
    "import openai\n",
    "import os\n",
    "\n",
    "# Load the dataset\n",
    "file_path = \"synthetic_dataset.csv\"\n",
    "df = pd.read_csv(file_path)\n",
    "\n",
    "# Function to summarize customer feedback\n",
    "def summarize_feedback(feedback_data):\n",
    "    # Set your OpenAI API key\n",
    "    openai.api_key = os.environ.get(\"OPENAI_API_KEY\")  # Make sure the API key is set as an environment variable\n",
    "    \n",
    "    # Create the prompt for the model\n",
    "    prompt = (\n",
    "        \"Summarize the following customer feedback into key themes:\\n\\n\" +\n",
    "        \"\\n\".join(feedback_data)\n",
    "    )\n",
    "    \n",
    "    # Send the request to OpenAI\n",
    "    response = openai.ChatCompletion.create(\n",
    "        model=\"gpt-4\",\n",
    "        messages=[{\"role\": \"user\", \"content\": prompt}]\n",
    "    )\n",
    "    \n",
    "    # Extract and return the summary\n",
    "    return response['choices'][0]['message']['content']\n",
    "\n",
    "# Extract feedback and summarize\n",
    "if \"Feedback\" in df.columns:\n",
    "    feedback_list = df[\"Feedback\"].dropna().tolist()[:10]  # Use the first 10 feedbacks, skipping missing values\n",
    "    summary = summarize_feedback(feedback_list)\n",
    "    \n",
    "    print(\"Feedback Summary:\")\n",
    "    print(summary)\n",
    "else:\n",
    "    print(\"The dataset does not contain a 'Feedback' column.\")\n"
   ]
  }
 ],
 "metadata": {
  "kernelspec": {
   "display_name": "Python 3 (ipykernel)",
   "language": "python",
   "name": "python3"
  },
  "language_info": {
   "codemirror_mode": {
    "name": "ipython",
    "version": 3
   },
   "file_extension": ".py",
   "mimetype": "text/x-python",
   "name": "python",
   "nbconvert_exporter": "python",
   "pygments_lexer": "ipython3",
   "version": "3.12.0"
  }
 },
 "nbformat": 4,
 "nbformat_minor": 5
}
